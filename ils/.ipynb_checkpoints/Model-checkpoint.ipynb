{
 "cells": [
  {
   "cell_type": "code",
   "execution_count": 17,
   "id": "9ed42c36",
   "metadata": {},
   "outputs": [],
   "source": [
    "import pandas as pd\n",
    "import numpy as np"
   ]
  },
  {
   "cell_type": "code",
   "execution_count": 18,
   "id": "e52f7639",
   "metadata": {},
   "outputs": [],
   "source": [
    "#Creating SQL connection"
   ]
  },
  {
   "cell_type": "code",
   "execution_count": 19,
   "id": "b5da0fed",
   "metadata": {},
   "outputs": [],
   "source": [
    "import django\n",
    "from django.conf import settings\n",
    "\n",
    "import os\n",
    "import sqlite3\n",
    "\n",
    "# Set the DJANGO_SETTINGS_MODULE environment variable\n",
    "os.environ.setdefault('DJANGO_SETTINGS_MODULE', 'ils.settings')\n",
    "\n",
    "# Initialize Django\n",
    "django.setup()\n",
    "\n",
    "db_path = os.path.join(settings.BASE_DIR, 'db.sqlite3')\n",
    "conn = sqlite3.connect(db_path)"
   ]
  },
  {
   "cell_type": "code",
   "execution_count": 20,
   "id": "3d4284f5",
   "metadata": {},
   "outputs": [],
   "source": [
    "#User response table"
   ]
  },
  {
   "cell_type": "code",
   "execution_count": 21,
   "id": "f6c9e8ed",
   "metadata": {},
   "outputs": [
    {
     "data": {
      "text/html": [
       "<div>\n",
       "<style scoped>\n",
       "    .dataframe tbody tr th:only-of-type {\n",
       "        vertical-align: middle;\n",
       "    }\n",
       "\n",
       "    .dataframe tbody tr th {\n",
       "        vertical-align: top;\n",
       "    }\n",
       "\n",
       "    .dataframe thead th {\n",
       "        text-align: right;\n",
       "    }\n",
       "</style>\n",
       "<table border=\"1\" class=\"dataframe\">\n",
       "  <thead>\n",
       "    <tr style=\"text-align: right;\">\n",
       "      <th></th>\n",
       "      <th>id</th>\n",
       "      <th>time_spent</th>\n",
       "      <th>times_option_changed</th>\n",
       "      <th>is_correct</th>\n",
       "      <th>question_id</th>\n",
       "      <th>user_confidence</th>\n",
       "    </tr>\n",
       "  </thead>\n",
       "  <tbody>\n",
       "    <tr>\n",
       "      <th>0</th>\n",
       "      <td>1</td>\n",
       "      <td>4000000</td>\n",
       "      <td>0</td>\n",
       "      <td>1</td>\n",
       "      <td>1</td>\n",
       "      <td>10</td>\n",
       "    </tr>\n",
       "    <tr>\n",
       "      <th>1</th>\n",
       "      <td>2</td>\n",
       "      <td>9000000</td>\n",
       "      <td>0</td>\n",
       "      <td>1</td>\n",
       "      <td>2</td>\n",
       "      <td>10</td>\n",
       "    </tr>\n",
       "    <tr>\n",
       "      <th>2</th>\n",
       "      <td>3</td>\n",
       "      <td>9000000</td>\n",
       "      <td>1</td>\n",
       "      <td>1</td>\n",
       "      <td>3</td>\n",
       "      <td>10</td>\n",
       "    </tr>\n",
       "    <tr>\n",
       "      <th>3</th>\n",
       "      <td>4</td>\n",
       "      <td>6000000</td>\n",
       "      <td>0</td>\n",
       "      <td>1</td>\n",
       "      <td>1</td>\n",
       "      <td>7</td>\n",
       "    </tr>\n",
       "    <tr>\n",
       "      <th>4</th>\n",
       "      <td>5</td>\n",
       "      <td>2000000</td>\n",
       "      <td>0</td>\n",
       "      <td>1</td>\n",
       "      <td>2</td>\n",
       "      <td>8</td>\n",
       "    </tr>\n",
       "    <tr>\n",
       "      <th>5</th>\n",
       "      <td>6</td>\n",
       "      <td>2000000</td>\n",
       "      <td>0</td>\n",
       "      <td>1</td>\n",
       "      <td>3</td>\n",
       "      <td>10</td>\n",
       "    </tr>\n",
       "    <tr>\n",
       "      <th>6</th>\n",
       "      <td>7</td>\n",
       "      <td>13000000</td>\n",
       "      <td>0</td>\n",
       "      <td>1</td>\n",
       "      <td>4</td>\n",
       "      <td>5</td>\n",
       "    </tr>\n",
       "  </tbody>\n",
       "</table>\n",
       "</div>"
      ],
      "text/plain": [
       "   id  time_spent  times_option_changed  is_correct  question_id   \n",
       "0   1     4000000                     0           1            1  \\\n",
       "1   2     9000000                     0           1            2   \n",
       "2   3     9000000                     1           1            3   \n",
       "3   4     6000000                     0           1            1   \n",
       "4   5     2000000                     0           1            2   \n",
       "5   6     2000000                     0           1            3   \n",
       "6   7    13000000                     0           1            4   \n",
       "\n",
       "   user_confidence  \n",
       "0               10  \n",
       "1               10  \n",
       "2               10  \n",
       "3                7  \n",
       "4                8  \n",
       "5               10  \n",
       "6                5  "
      ]
     },
     "execution_count": 21,
     "metadata": {},
     "output_type": "execute_result"
    }
   ],
   "source": [
    "table_name = 'quiz_userresponse'\n",
    "query = f\"SELECT * FROM {table_name}\"\n",
    "df_userresponse = pd.read_sql_query(query, conn)\n",
    "df_userresponse"
   ]
  },
  {
   "cell_type": "code",
   "execution_count": 22,
   "id": "3b8c8e4a",
   "metadata": {},
   "outputs": [
    {
     "data": {
      "text/html": [
       "<div>\n",
       "<style scoped>\n",
       "    .dataframe tbody tr th:only-of-type {\n",
       "        vertical-align: middle;\n",
       "    }\n",
       "\n",
       "    .dataframe tbody tr th {\n",
       "        vertical-align: top;\n",
       "    }\n",
       "\n",
       "    .dataframe thead th {\n",
       "        text-align: right;\n",
       "    }\n",
       "</style>\n",
       "<table border=\"1\" class=\"dataframe\">\n",
       "  <thead>\n",
       "    <tr style=\"text-align: right;\">\n",
       "      <th></th>\n",
       "      <th>id</th>\n",
       "      <th>times_option_changed</th>\n",
       "      <th>is_correct</th>\n",
       "      <th>question_id</th>\n",
       "      <th>user_confidence</th>\n",
       "      <th>time_spent</th>\n",
       "    </tr>\n",
       "  </thead>\n",
       "  <tbody>\n",
       "    <tr>\n",
       "      <th>0</th>\n",
       "      <td>4</td>\n",
       "      <td>0</td>\n",
       "      <td>1</td>\n",
       "      <td>1</td>\n",
       "      <td>8</td>\n",
       "      <td>10000000</td>\n",
       "    </tr>\n",
       "    <tr>\n",
       "      <th>1</th>\n",
       "      <td>5</td>\n",
       "      <td>0</td>\n",
       "      <td>1</td>\n",
       "      <td>2</td>\n",
       "      <td>9</td>\n",
       "      <td>11000000</td>\n",
       "    </tr>\n",
       "    <tr>\n",
       "      <th>2</th>\n",
       "      <td>6</td>\n",
       "      <td>1</td>\n",
       "      <td>1</td>\n",
       "      <td>3</td>\n",
       "      <td>10</td>\n",
       "      <td>11000000</td>\n",
       "    </tr>\n",
       "    <tr>\n",
       "      <th>3</th>\n",
       "      <td>7</td>\n",
       "      <td>0</td>\n",
       "      <td>1</td>\n",
       "      <td>4</td>\n",
       "      <td>5</td>\n",
       "      <td>13000000</td>\n",
       "    </tr>\n",
       "  </tbody>\n",
       "</table>\n",
       "</div>"
      ],
      "text/plain": [
       "   id  times_option_changed  is_correct  question_id  user_confidence   \n",
       "0   4                     0           1            1                8  \\\n",
       "1   5                     0           1            2                9   \n",
       "2   6                     1           1            3               10   \n",
       "3   7                     0           1            4                5   \n",
       "\n",
       "   time_spent  \n",
       "0    10000000  \n",
       "1    11000000  \n",
       "2    11000000  \n",
       "3    13000000  "
      ]
     },
     "execution_count": 22,
     "metadata": {},
     "output_type": "execute_result"
    }
   ],
   "source": [
    "from math import floor\n",
    "\n",
    "df_userresponse = df_userresponse.groupby('question_id').agg({\n",
    "    'id':'last',\n",
    "    'times_option_changed': 'sum',\n",
    "    'is_correct': 'last',\n",
    "    'user_confidence': lambda x: floor(x.mean()),\n",
    "    'time_spent': 'sum'\n",
    "}).reset_index()\n",
    "\n",
    "df_userresponse = df_userresponse[['id', 'times_option_changed', 'is_correct', 'question_id', 'user_confidence', 'time_spent']]\n",
    "\n",
    "df_userresponse"
   ]
  },
  {
   "cell_type": "code",
   "execution_count": 23,
   "id": "22605996",
   "metadata": {},
   "outputs": [],
   "source": [
    "#Questions table"
   ]
  },
  {
   "cell_type": "code",
   "execution_count": 24,
   "id": "e3c55e73",
   "metadata": {},
   "outputs": [
    {
     "data": {
      "text/html": [
       "<div>\n",
       "<style scoped>\n",
       "    .dataframe tbody tr th:only-of-type {\n",
       "        vertical-align: middle;\n",
       "    }\n",
       "\n",
       "    .dataframe tbody tr th {\n",
       "        vertical-align: top;\n",
       "    }\n",
       "\n",
       "    .dataframe thead th {\n",
       "        text-align: right;\n",
       "    }\n",
       "</style>\n",
       "<table border=\"1\" class=\"dataframe\">\n",
       "  <thead>\n",
       "    <tr style=\"text-align: right;\">\n",
       "      <th></th>\n",
       "      <th>id</th>\n",
       "      <th>label</th>\n",
       "      <th>cognitive_ability</th>\n",
       "      <th>is_answered</th>\n",
       "    </tr>\n",
       "  </thead>\n",
       "  <tbody>\n",
       "    <tr>\n",
       "      <th>0</th>\n",
       "      <td>1</td>\n",
       "      <td>What is the product of 12 and 9?</td>\n",
       "      <td>Level_1</td>\n",
       "      <td>0</td>\n",
       "    </tr>\n",
       "    <tr>\n",
       "      <th>1</th>\n",
       "      <td>2</td>\n",
       "      <td>If y = 3, what is the value of 4y - 5?</td>\n",
       "      <td>Level_1</td>\n",
       "      <td>0</td>\n",
       "    </tr>\n",
       "    <tr>\n",
       "      <th>2</th>\n",
       "      <td>3</td>\n",
       "      <td>What is the perimeter of a square with a side ...</td>\n",
       "      <td>Level_1</td>\n",
       "      <td>0</td>\n",
       "    </tr>\n",
       "    <tr>\n",
       "      <th>3</th>\n",
       "      <td>4</td>\n",
       "      <td>What is the next number in the series: 2, 5, 8...</td>\n",
       "      <td>Level_1</td>\n",
       "      <td>0</td>\n",
       "    </tr>\n",
       "    <tr>\n",
       "      <th>4</th>\n",
       "      <td>5</td>\n",
       "      <td>What is 20% of 150?</td>\n",
       "      <td>Level_1</td>\n",
       "      <td>0</td>\n",
       "    </tr>\n",
       "    <tr>\n",
       "      <th>5</th>\n",
       "      <td>6</td>\n",
       "      <td>Solve for x in the equation 3x - 7 = 11.</td>\n",
       "      <td>Level_2</td>\n",
       "      <td>0</td>\n",
       "    </tr>\n",
       "    <tr>\n",
       "      <th>6</th>\n",
       "      <td>7</td>\n",
       "      <td>What is the next number in the sequence: 5, 10...</td>\n",
       "      <td>Level_2</td>\n",
       "      <td>0</td>\n",
       "    </tr>\n",
       "    <tr>\n",
       "      <th>7</th>\n",
       "      <td>8</td>\n",
       "      <td>A box contains 4 red, 5 blue, and 6 green ball...</td>\n",
       "      <td>Level_2</td>\n",
       "      <td>0</td>\n",
       "    </tr>\n",
       "    <tr>\n",
       "      <th>8</th>\n",
       "      <td>9</td>\n",
       "      <td>What is the simple interest on $2000 at an ann...</td>\n",
       "      <td>Level_2</td>\n",
       "      <td>0</td>\n",
       "    </tr>\n",
       "    <tr>\n",
       "      <th>9</th>\n",
       "      <td>10</td>\n",
       "      <td>If 'CAT' is coded as 'DBU', how is 'DOG' coded...</td>\n",
       "      <td>Level_2</td>\n",
       "      <td>0</td>\n",
       "    </tr>\n",
       "    <tr>\n",
       "      <th>10</th>\n",
       "      <td>11</td>\n",
       "      <td>Solve for x in the equation 2x^2 - 8x + 6 = 0.</td>\n",
       "      <td>Level_3</td>\n",
       "      <td>0</td>\n",
       "    </tr>\n",
       "    <tr>\n",
       "      <th>11</th>\n",
       "      <td>12</td>\n",
       "      <td>The length of a rectangle is twice its width. ...</td>\n",
       "      <td>Level_3</td>\n",
       "      <td>0</td>\n",
       "    </tr>\n",
       "    <tr>\n",
       "      <th>12</th>\n",
       "      <td>13</td>\n",
       "      <td>What is the next number in the series: 1, 4, 1...</td>\n",
       "      <td>Level_3</td>\n",
       "      <td>0</td>\n",
       "    </tr>\n",
       "    <tr>\n",
       "      <th>13</th>\n",
       "      <td>14</td>\n",
       "      <td>A die is rolled twice. What is the probability...</td>\n",
       "      <td>Level_3</td>\n",
       "      <td>0</td>\n",
       "    </tr>\n",
       "    <tr>\n",
       "      <th>14</th>\n",
       "      <td>15</td>\n",
       "      <td>In a certain code, 'APPLE' is written as 'EPPA...</td>\n",
       "      <td>Level_3</td>\n",
       "      <td>0</td>\n",
       "    </tr>\n",
       "  </tbody>\n",
       "</table>\n",
       "</div>"
      ],
      "text/plain": [
       "    id                                              label cognitive_ability   \n",
       "0    1                   What is the product of 12 and 9?           Level_1  \\\n",
       "1    2             If y = 3, what is the value of 4y - 5?           Level_1   \n",
       "2    3  What is the perimeter of a square with a side ...           Level_1   \n",
       "3    4  What is the next number in the series: 2, 5, 8...           Level_1   \n",
       "4    5                                What is 20% of 150?           Level_1   \n",
       "5    6           Solve for x in the equation 3x - 7 = 11.           Level_2   \n",
       "6    7  What is the next number in the sequence: 5, 10...           Level_2   \n",
       "7    8  A box contains 4 red, 5 blue, and 6 green ball...           Level_2   \n",
       "8    9  What is the simple interest on $2000 at an ann...           Level_2   \n",
       "9   10  If 'CAT' is coded as 'DBU', how is 'DOG' coded...           Level_2   \n",
       "10  11     Solve for x in the equation 2x^2 - 8x + 6 = 0.           Level_3   \n",
       "11  12  The length of a rectangle is twice its width. ...           Level_3   \n",
       "12  13  What is the next number in the series: 1, 4, 1...           Level_3   \n",
       "13  14  A die is rolled twice. What is the probability...           Level_3   \n",
       "14  15  In a certain code, 'APPLE' is written as 'EPPA...           Level_3   \n",
       "\n",
       "    is_answered  \n",
       "0             0  \n",
       "1             0  \n",
       "2             0  \n",
       "3             0  \n",
       "4             0  \n",
       "5             0  \n",
       "6             0  \n",
       "7             0  \n",
       "8             0  \n",
       "9             0  \n",
       "10            0  \n",
       "11            0  \n",
       "12            0  \n",
       "13            0  \n",
       "14            0  "
      ]
     },
     "execution_count": 24,
     "metadata": {},
     "output_type": "execute_result"
    }
   ],
   "source": [
    "table_name = 'quiz_question'\n",
    "query = f\"SELECT * FROM {table_name}\"\n",
    "df_question = pd.read_sql_query(query, conn)\n",
    "df_question"
   ]
  },
  {
   "cell_type": "code",
   "execution_count": 25,
   "id": "811b3030",
   "metadata": {},
   "outputs": [
    {
     "data": {
      "text/plain": [
       "{1: 'Level_1',\n",
       " 2: 'Level_1',\n",
       " 3: 'Level_1',\n",
       " 4: 'Level_1',\n",
       " 5: 'Level_1',\n",
       " 6: 'Level_2',\n",
       " 7: 'Level_2',\n",
       " 8: 'Level_2',\n",
       " 9: 'Level_2',\n",
       " 10: 'Level_2',\n",
       " 11: 'Level_3',\n",
       " 12: 'Level_3',\n",
       " 13: 'Level_3',\n",
       " 14: 'Level_3',\n",
       " 15: 'Level_3'}"
      ]
     },
     "execution_count": 25,
     "metadata": {},
     "output_type": "execute_result"
    }
   ],
   "source": [
    "question_cognitive_ability = dict(zip(df_question['id'], df_question['cognitive_ability']))\n",
    "question_cognitive_ability"
   ]
  },
  {
   "cell_type": "code",
   "execution_count": 26,
   "id": "810a42bb",
   "metadata": {},
   "outputs": [
    {
     "data": {
      "text/html": [
       "<div>\n",
       "<style scoped>\n",
       "    .dataframe tbody tr th:only-of-type {\n",
       "        vertical-align: middle;\n",
       "    }\n",
       "\n",
       "    .dataframe tbody tr th {\n",
       "        vertical-align: top;\n",
       "    }\n",
       "\n",
       "    .dataframe thead th {\n",
       "        text-align: right;\n",
       "    }\n",
       "</style>\n",
       "<table border=\"1\" class=\"dataframe\">\n",
       "  <thead>\n",
       "    <tr style=\"text-align: right;\">\n",
       "      <th></th>\n",
       "      <th>id</th>\n",
       "      <th>times_option_changed</th>\n",
       "      <th>is_correct</th>\n",
       "      <th>question_id</th>\n",
       "      <th>user_confidence</th>\n",
       "      <th>time_spent</th>\n",
       "      <th>cognitive_ability</th>\n",
       "    </tr>\n",
       "  </thead>\n",
       "  <tbody>\n",
       "    <tr>\n",
       "      <th>0</th>\n",
       "      <td>4</td>\n",
       "      <td>0</td>\n",
       "      <td>1</td>\n",
       "      <td>1</td>\n",
       "      <td>8</td>\n",
       "      <td>10000000</td>\n",
       "      <td>Level_1</td>\n",
       "    </tr>\n",
       "    <tr>\n",
       "      <th>1</th>\n",
       "      <td>5</td>\n",
       "      <td>0</td>\n",
       "      <td>1</td>\n",
       "      <td>2</td>\n",
       "      <td>9</td>\n",
       "      <td>11000000</td>\n",
       "      <td>Level_1</td>\n",
       "    </tr>\n",
       "    <tr>\n",
       "      <th>2</th>\n",
       "      <td>6</td>\n",
       "      <td>1</td>\n",
       "      <td>1</td>\n",
       "      <td>3</td>\n",
       "      <td>10</td>\n",
       "      <td>11000000</td>\n",
       "      <td>Level_1</td>\n",
       "    </tr>\n",
       "    <tr>\n",
       "      <th>3</th>\n",
       "      <td>7</td>\n",
       "      <td>0</td>\n",
       "      <td>1</td>\n",
       "      <td>4</td>\n",
       "      <td>5</td>\n",
       "      <td>13000000</td>\n",
       "      <td>Level_1</td>\n",
       "    </tr>\n",
       "  </tbody>\n",
       "</table>\n",
       "</div>"
      ],
      "text/plain": [
       "   id  times_option_changed  is_correct  question_id  user_confidence   \n",
       "0   4                     0           1            1                8  \\\n",
       "1   5                     0           1            2                9   \n",
       "2   6                     1           1            3               10   \n",
       "3   7                     0           1            4                5   \n",
       "\n",
       "   time_spent cognitive_ability  \n",
       "0    10000000           Level_1  \n",
       "1    11000000           Level_1  \n",
       "2    11000000           Level_1  \n",
       "3    13000000           Level_1  "
      ]
     },
     "execution_count": 26,
     "metadata": {},
     "output_type": "execute_result"
    }
   ],
   "source": [
    "df_userresponse['cognitive_ability'] = df_userresponse['question_id'].map(question_cognitive_ability)\n",
    "df_userresponse"
   ]
  },
  {
   "cell_type": "code",
   "execution_count": 28,
   "id": "d3ca3644",
   "metadata": {},
   "outputs": [
    {
     "data": {
      "text/html": [
       "<div>\n",
       "<style scoped>\n",
       "    .dataframe tbody tr th:only-of-type {\n",
       "        vertical-align: middle;\n",
       "    }\n",
       "\n",
       "    .dataframe tbody tr th {\n",
       "        vertical-align: top;\n",
       "    }\n",
       "\n",
       "    .dataframe thead th {\n",
       "        text-align: right;\n",
       "    }\n",
       "</style>\n",
       "<table border=\"1\" class=\"dataframe\">\n",
       "  <thead>\n",
       "    <tr style=\"text-align: right;\">\n",
       "      <th></th>\n",
       "      <th>id</th>\n",
       "      <th>times_option_changed</th>\n",
       "      <th>is_correct</th>\n",
       "      <th>question_id</th>\n",
       "      <th>user_confidence</th>\n",
       "      <th>time_spent</th>\n",
       "      <th>cognitive_ability</th>\n",
       "    </tr>\n",
       "  </thead>\n",
       "  <tbody>\n",
       "    <tr>\n",
       "      <th>0</th>\n",
       "      <td>4</td>\n",
       "      <td>0</td>\n",
       "      <td>1</td>\n",
       "      <td>1</td>\n",
       "      <td>8</td>\n",
       "      <td>0.000010</td>\n",
       "      <td>1</td>\n",
       "    </tr>\n",
       "    <tr>\n",
       "      <th>1</th>\n",
       "      <td>5</td>\n",
       "      <td>0</td>\n",
       "      <td>1</td>\n",
       "      <td>2</td>\n",
       "      <td>9</td>\n",
       "      <td>0.000011</td>\n",
       "      <td>1</td>\n",
       "    </tr>\n",
       "    <tr>\n",
       "      <th>2</th>\n",
       "      <td>6</td>\n",
       "      <td>1</td>\n",
       "      <td>1</td>\n",
       "      <td>3</td>\n",
       "      <td>10</td>\n",
       "      <td>0.000011</td>\n",
       "      <td>1</td>\n",
       "    </tr>\n",
       "    <tr>\n",
       "      <th>3</th>\n",
       "      <td>7</td>\n",
       "      <td>0</td>\n",
       "      <td>1</td>\n",
       "      <td>4</td>\n",
       "      <td>5</td>\n",
       "      <td>0.000013</td>\n",
       "      <td>1</td>\n",
       "    </tr>\n",
       "  </tbody>\n",
       "</table>\n",
       "</div>"
      ],
      "text/plain": [
       "   id  times_option_changed  is_correct  question_id  user_confidence   \n",
       "0   4                     0           1            1                8  \\\n",
       "1   5                     0           1            2                9   \n",
       "2   6                     1           1            3               10   \n",
       "3   7                     0           1            4                5   \n",
       "\n",
       "   time_spent  cognitive_ability  \n",
       "0    0.000010                  1  \n",
       "1    0.000011                  1  \n",
       "2    0.000011                  1  \n",
       "3    0.000013                  1  "
      ]
     },
     "execution_count": 28,
     "metadata": {},
     "output_type": "execute_result"
    }
   ],
   "source": [
    "df_userresponse['time_spent'] = df_userresponse['time_spent'].apply(lambda x: x / 1000000)\n",
    "cognitive_ability_mapping = {'Level_1': 1, 'Level_2': 2, 'Level_3': 3}\n",
    "df_userresponse['cognitive_ability'] = df_userresponse['cognitive_ability'].map(cognitive_ability_mapping)\n",
    "df_userresponse"
   ]
  },
  {
   "cell_type": "code",
   "execution_count": 29,
   "id": "3becc17e",
   "metadata": {},
   "outputs": [],
   "source": [
    "#Model"
   ]
  },
  {
   "cell_type": "code",
   "execution_count": 30,
   "id": "74dd9625",
   "metadata": {},
   "outputs": [],
   "source": [
    "features = ['time_spent', 'times_option_changed', 'is_correct', 'cognitive_ability', 'user_confidence']\n",
    "target = 'user_confidence'"
   ]
  },
  {
   "cell_type": "code",
   "execution_count": 31,
   "id": "079ae82d",
   "metadata": {},
   "outputs": [],
   "source": [
    "from sklearn.model_selection import train_test_split\n",
    "\n",
    "X = df_userresponse[features]\n",
    "y = df_userresponse[target]\n",
    "X_train, X_test, y_train, y_test = train_test_split(X, y, test_size=0.2, random_state=42)"
   ]
  },
  {
   "cell_type": "code",
   "execution_count": 32,
   "id": "5165c679",
   "metadata": {},
   "outputs": [
    {
     "data": {
      "text/html": [
       "<style>#sk-container-id-1 {color: black;background-color: white;}#sk-container-id-1 pre{padding: 0;}#sk-container-id-1 div.sk-toggleable {background-color: white;}#sk-container-id-1 label.sk-toggleable__label {cursor: pointer;display: block;width: 100%;margin-bottom: 0;padding: 0.3em;box-sizing: border-box;text-align: center;}#sk-container-id-1 label.sk-toggleable__label-arrow:before {content: \"▸\";float: left;margin-right: 0.25em;color: #696969;}#sk-container-id-1 label.sk-toggleable__label-arrow:hover:before {color: black;}#sk-container-id-1 div.sk-estimator:hover label.sk-toggleable__label-arrow:before {color: black;}#sk-container-id-1 div.sk-toggleable__content {max-height: 0;max-width: 0;overflow: hidden;text-align: left;background-color: #f0f8ff;}#sk-container-id-1 div.sk-toggleable__content pre {margin: 0.2em;color: black;border-radius: 0.25em;background-color: #f0f8ff;}#sk-container-id-1 input.sk-toggleable__control:checked~div.sk-toggleable__content {max-height: 200px;max-width: 100%;overflow: auto;}#sk-container-id-1 input.sk-toggleable__control:checked~label.sk-toggleable__label-arrow:before {content: \"▾\";}#sk-container-id-1 div.sk-estimator input.sk-toggleable__control:checked~label.sk-toggleable__label {background-color: #d4ebff;}#sk-container-id-1 div.sk-label input.sk-toggleable__control:checked~label.sk-toggleable__label {background-color: #d4ebff;}#sk-container-id-1 input.sk-hidden--visually {border: 0;clip: rect(1px 1px 1px 1px);clip: rect(1px, 1px, 1px, 1px);height: 1px;margin: -1px;overflow: hidden;padding: 0;position: absolute;width: 1px;}#sk-container-id-1 div.sk-estimator {font-family: monospace;background-color: #f0f8ff;border: 1px dotted black;border-radius: 0.25em;box-sizing: border-box;margin-bottom: 0.5em;}#sk-container-id-1 div.sk-estimator:hover {background-color: #d4ebff;}#sk-container-id-1 div.sk-parallel-item::after {content: \"\";width: 100%;border-bottom: 1px solid gray;flex-grow: 1;}#sk-container-id-1 div.sk-label:hover label.sk-toggleable__label {background-color: #d4ebff;}#sk-container-id-1 div.sk-serial::before {content: \"\";position: absolute;border-left: 1px solid gray;box-sizing: border-box;top: 0;bottom: 0;left: 50%;z-index: 0;}#sk-container-id-1 div.sk-serial {display: flex;flex-direction: column;align-items: center;background-color: white;padding-right: 0.2em;padding-left: 0.2em;position: relative;}#sk-container-id-1 div.sk-item {position: relative;z-index: 1;}#sk-container-id-1 div.sk-parallel {display: flex;align-items: stretch;justify-content: center;background-color: white;position: relative;}#sk-container-id-1 div.sk-item::before, #sk-container-id-1 div.sk-parallel-item::before {content: \"\";position: absolute;border-left: 1px solid gray;box-sizing: border-box;top: 0;bottom: 0;left: 50%;z-index: -1;}#sk-container-id-1 div.sk-parallel-item {display: flex;flex-direction: column;z-index: 1;position: relative;background-color: white;}#sk-container-id-1 div.sk-parallel-item:first-child::after {align-self: flex-end;width: 50%;}#sk-container-id-1 div.sk-parallel-item:last-child::after {align-self: flex-start;width: 50%;}#sk-container-id-1 div.sk-parallel-item:only-child::after {width: 0;}#sk-container-id-1 div.sk-dashed-wrapped {border: 1px dashed gray;margin: 0 0.4em 0.5em 0.4em;box-sizing: border-box;padding-bottom: 0.4em;background-color: white;}#sk-container-id-1 div.sk-label label {font-family: monospace;font-weight: bold;display: inline-block;line-height: 1.2em;}#sk-container-id-1 div.sk-label-container {text-align: center;}#sk-container-id-1 div.sk-container {/* jupyter's `normalize.less` sets `[hidden] { display: none; }` but bootstrap.min.css set `[hidden] { display: none !important; }` so we also need the `!important` here to be able to override the default hidden behavior on the sphinx rendered scikit-learn.org. See: https://github.com/scikit-learn/scikit-learn/issues/21755 */display: inline-block !important;position: relative;}#sk-container-id-1 div.sk-text-repr-fallback {display: none;}</style><div id=\"sk-container-id-1\" class=\"sk-top-container\"><div class=\"sk-text-repr-fallback\"><pre>RandomForestRegressor(random_state=42)</pre><b>In a Jupyter environment, please rerun this cell to show the HTML representation or trust the notebook. <br />On GitHub, the HTML representation is unable to render, please try loading this page with nbviewer.org.</b></div><div class=\"sk-container\" hidden><div class=\"sk-item\"><div class=\"sk-estimator sk-toggleable\"><input class=\"sk-toggleable__control sk-hidden--visually\" id=\"sk-estimator-id-1\" type=\"checkbox\" checked><label for=\"sk-estimator-id-1\" class=\"sk-toggleable__label sk-toggleable__label-arrow\">RandomForestRegressor</label><div class=\"sk-toggleable__content\"><pre>RandomForestRegressor(random_state=42)</pre></div></div></div></div></div>"
      ],
      "text/plain": [
       "RandomForestRegressor(random_state=42)"
      ]
     },
     "execution_count": 32,
     "metadata": {},
     "output_type": "execute_result"
    }
   ],
   "source": [
    "from sklearn.ensemble import RandomForestRegressor\n",
    "model = RandomForestRegressor(n_estimators=100, random_state=42)\n",
    "model.fit(X_train, y_train)"
   ]
  },
  {
   "cell_type": "code",
   "execution_count": 33,
   "id": "7458d192",
   "metadata": {},
   "outputs": [
    {
     "name": "stdout",
     "output_type": "stream",
     "text": [
      "1    9\n",
      "Name: user_confidence, dtype: int64\n"
     ]
    },
    {
     "data": {
      "text/plain": [
       "array([8.12])"
      ]
     },
     "execution_count": 33,
     "metadata": {},
     "output_type": "execute_result"
    }
   ],
   "source": [
    "predictions = model.predict(X_test)\n",
    "print(y_test)\n",
    "predictions"
   ]
  },
  {
   "cell_type": "code",
   "execution_count": 35,
   "id": "ffcfa723",
   "metadata": {},
   "outputs": [
    {
     "name": "stdout",
     "output_type": "stream",
     "text": [
      "Mean Absolute Error: 0.8800000000000008\n"
     ]
    }
   ],
   "source": [
    "from sklearn.metrics import mean_absolute_error\n",
    "mae = mean_absolute_error(y_test, predictions)\n",
    "print(f'Mean Absolute Error: {mae}')"
   ]
  },
  {
   "cell_type": "code",
   "execution_count": 38,
   "id": "cdeeae5c",
   "metadata": {},
   "outputs": [
    {
     "data": {
      "text/plain": [
       "['confidence_predictor_model.pkl']"
      ]
     },
     "execution_count": 38,
     "metadata": {},
     "output_type": "execute_result"
    }
   ],
   "source": [
    "import joblib\n",
    "\n",
    "joblib.dump(model, 'confidence_predictor_model.pkl')"
   ]
  },
  {
   "cell_type": "code",
   "execution_count": 39,
   "id": "e9dbb28e",
   "metadata": {},
   "outputs": [],
   "source": [
    "conn.close()"
   ]
  },
  {
   "cell_type": "code",
   "execution_count": 40,
   "id": "12c31068",
   "metadata": {},
   "outputs": [
    {
     "name": "stdout",
     "output_type": "stream",
     "text": [
      "8.0\n"
     ]
    },
    {
     "data": {
      "text/plain": [
       "CompletedProcess(args=['python', 'manage.py', 'select_questions', '8.0'], returncode=1)"
      ]
     },
     "execution_count": 40,
     "metadata": {},
     "output_type": "execute_result"
    }
   ],
   "source": [
    "import subprocess\n",
    "\n",
    "# Define the value of A\n",
    "A = floor(df_userresponse['user_confidence'].mean())  # Example value of A\n",
    "print(A)\n",
    "# Run the reset_exam_db management command\n",
    "subprocess.run(['python', 'manage.py', 'reset_exam_db'])\n",
    "\n",
    "# Run the select_questions management command\n",
    "subprocess.run(['python', 'manage.py', 'select_questions', str(A)])"
   ]
  },
  {
   "cell_type": "code",
   "execution_count": null,
   "id": "452f2145",
   "metadata": {},
   "outputs": [],
   "source": []
  }
 ],
 "metadata": {
  "kernelspec": {
   "display_name": "Python 3 (ipykernel)",
   "language": "python",
   "name": "python3"
  },
  "language_info": {
   "codemirror_mode": {
    "name": "ipython",
    "version": 3
   },
   "file_extension": ".py",
   "mimetype": "text/x-python",
   "name": "python",
   "nbconvert_exporter": "python",
   "pygments_lexer": "ipython3",
   "version": "3.11.0"
  }
 },
 "nbformat": 4,
 "nbformat_minor": 5
}
